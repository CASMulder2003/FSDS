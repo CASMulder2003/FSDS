{
 "cells": [
  {
   "cell_type": "code",
   "execution_count": null,
   "id": "8cdc8965-6bc8-4252-b780-fb11abfd74e0",
   "metadata": {},
   "outputs": [],
   "source": [
    "# =================================\n",
    "from functools import wraps\n",
    "from pathlib import Path\n",
    "from urllib.request import urlopen\n",
    "# =================================\n",
    "\n",
    "# Step 1: \n",
    "def check_cache(f) -> Path:\n",
    "    @wraps(f)\n",
    "    def wrapper(*args, **kwargs):\n",
    "        src  = Path(args[0])\n",
    "        dest = Path(args[1])\n",
    "        if dest.exists() and dest.is_file():\n",
    "            print(f\"{dest} found locally!\")\n",
    "            return(dest)\n",
    "        else:\n",
    "            print(f\"{dest} not found, downloading!\")\n",
    "            return(f(src, dest))\n",
    "    return wrapper\n",
    "\n",
    "\n",
    "@check_cache\n",
    "def get_url(src:Path, dst:Path) -> Path:\n",
    "    # Get the data using the urlopen function\n",
    "    response = urlopen(src) \n",
    "    filedata = response.read().decode('utf-8')\n",
    "     \n",
    "    # Create any missing directories in dest(ination) path\n",
    "    # -- os.path.join is the reverse of split (as you saw above)\n",
    "    # but it doesn't work with lists... so I had to google how \n",
    "    # to use the 'splat' operator! os.makedirs creates missing \n",
    "    # directories in a path automatically.\n",
    "    dst.parent.mkdir(parents=True, exist_ok=True)\n",
    "     \n",
    "    with dst.open(mode='w') as f:\n",
    "        f.write(filedata)\n",
    "         \n",
    "    print(f\"Data written to {dst}!\")\n",
    "    \n",
    "    return dst"
   ]
  }
 ],
 "metadata": {
  "kernelspec": {
   "display_name": "Python 3 (ipykernel)",
   "language": "python",
   "name": "python3"
  },
  "language_info": {
   "codemirror_mode": {
    "name": "ipython",
    "version": 3
   },
   "file_extension": ".py",
   "mimetype": "text/x-python",
   "name": "python",
   "nbconvert_exporter": "python",
   "pygments_lexer": "ipython3",
   "version": "3.12.11"
  }
 },
 "nbformat": 4,
 "nbformat_minor": 5
}
