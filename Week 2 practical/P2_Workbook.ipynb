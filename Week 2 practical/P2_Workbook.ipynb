{
 "cells": [
  {
   "cell_type": "markdown",
   "id": "b3eee4d9-a5ae-4f35-b355-35fc3c10cfae",
   "metadata": {},
   "source": [
    "## 2. Running the Notebook\n",
    "### 2.1 Hello World!\n",
    "Nearly every introduction to programming course starts with the famous ‘Hello World!’, so why do anything different?\n",
    "\n",
    "From within Jupyter Lab you should now able to create a new notebook:\n",
    "\n",
    "Click on the Python 3 tile in the Notebook section.\n",
    "You should see a new tab open with a new notebook (title: Untitled.ipynb).\n",
    "In the first cell type print('Hello World!').\n",
    "Click the Run button (▶) in the menu above the notebook.\n",
    "You should see Python output Hello World! below the cell.\n",
    "Any time you want to run code you click on the right-triangle (▶); it’s in the area between the clipboard 📋 (for copying) and the ■ (for stopping running code).\n",
    "\n",
    "So when you run:"
   ]
  },
  {
   "cell_type": "code",
   "execution_count": 1,
   "id": "bfe2c9e7-e3d9-42ab-97dc-7a24b6e5f72d",
   "metadata": {},
   "outputs": [
    {
     "name": "stdout",
     "output_type": "stream",
     "text": [
      "hello world!\n"
     ]
    }
   ],
   "source": [
    "print(\"hello world!\") "
   ]
  },
  {
   "cell_type": "markdown",
   "id": "917417ca-444f-439d-9520-61b0cb0e28f5",
   "metadata": {},
   "source": [
    "> **Tip**\n",
    ">\n",
    "> You can always click the ▶ icon above, but it will be much *faster* to\n",
    "> get into the habit of type `Ctrl`+`Enter` instead when you have placed\n",
    "> your cursor in a code cell. This is also how to turn a Markdown cell\n",
    "> back into display text.\n",
    "\n",
    "You can now close this notebook. Unless you created this notebook in the\n",
    "`work` folder, you will not be able to save it permanently. That’s fine.\n",
    "\n",
    "### 2.2 Starting the Practical Notebook\n",
    "\n",
    "*Now* from *within Jupyter Lab* you should start the Practical 2\n",
    "notebook:\n",
    "\n",
    "1.  Starting from the `work` folder, navigate to your repo folder where\n",
    "    you saved this notebook (`Practical-02-Foundations_1.ipynb`).\n",
    "2.  Double-click the notebook file and the notebook should appear on the\n",
    "    right-hand side. If all you see is reams of plain text then there is\n",
    "    probably still a `.txt` extension on your notebook file that hasn’t\n",
    "    been removed.\n",
    "\n",
    "Now you can run code directly in your browser, so let’s try it!\n",
    "\n",
    "--- \n",
    "## 3. Python Variables\n",
    "> **Connections**\n",
    ">\n",
    "> This is a short recap of materials covered in this week’s video on\n",
    "> [Python: the\n",
    "> Basics](https://jreades.github.io/fsds//sessions/week2.html#lectures)\n",
    "> as well as Code Camp’s [The\n",
    "> Basics](https://jreades.github.io/code-camp//lessons/The_Basics.html)\n",
    "\n",
    "### 3.1 Variable Names\n",
    "\n",
    "> **Look closer!**\n",
    ">\n",
    "> Pay attention to the *colour* of the code, while it might be subtle (a\n",
    "> single character in a different colour), it is giving you clues as to\n",
    "> where problems might be found because it means the Python\n",
    "> ‘interpreter’ is reading what you wrote differently from how you\n",
    "> *probably* meant it…\n",
    "\n",
    "*Some* of the lines of code below are valid Python, but others *may*\n",
    "have a problem that will cause Python to generate an error. Each error\n",
    "can be fixed by changing *one* character. See if you can work out which\n",
    "ones you need to fix **before running the code**:\n",
    "\n",
    "##### 3.1.0.1 Question"
   ]
  },
  {
   "cell_type": "code",
   "execution_count": null,
   "id": "e7d6efa6-a98f-4b69-ba8a-63052c242ee3",
   "metadata": {},
   "outputs": [],
   "source": [
    "Pi = 3.14159      # Valid Python\n",
    "pi = 3.14159      # Valid?? \n",
    "3pi = 3.14159*3   # Not valid?? \n",
    "pi_2 = 3.14159**2 # Valid (but it's just called pi_2) \n",
    "pi^2 = 3.14159**2 # Not valid (not a name) \n",
    "my radius = 5     # Not valid due to name\n",
    "My_Radius = 5     # Valid\n",
    "class = 5         # Not valid I think  "
   ]
  },
  {
   "cell_type": "code",
   "execution_count": 5,
   "id": "1db8a412-3059-4619-b96b-081a79031df9",
   "metadata": {},
   "outputs": [],
   "source": [
    "Pi = 3.14159      # Valid Python\n",
    "pi = 3.14159      # Valid\n",
    "pi = 3.14159*3   # Not valid -> Adjusted the variable name \n",
    "pi_2 = 3.14159**2 # Valid \n",
    "pi2 = 3.14159**2 # Not valid -> Name  change\n",
    "myradius = 5     # Valid\n",
    "My_Radius = 5     # Valid\n",
    "clas = 5         # Not valid -> class is reserved word"
   ]
  },
  {
   "cell_type": "markdown",
   "id": "b64cde4c-a14f-4721-b068-8de61911b3d4",
   "metadata": {},
   "source": [
    "### 3.2 Variable Types\n",
    "Using only the values for x, y, and z, what operations allow you to print the following?\n",
    "\n",
    "6\n",
    "22\n",
    "22\n",
    "125\n",
    "0.4\n",
    "3.2.0.1 Question¶"
   ]
  },
  {
   "cell_type": "code",
   "execution_count": 33,
   "id": "4d9cb8a4-52f3-4be0-bc80-6f28ec6b0a71",
   "metadata": {},
   "outputs": [
    {
     "name": "stdout",
     "output_type": "stream",
     "text": [
      "6\n",
      "22\n",
      "22\n",
      "125\n",
      "0.4\n"
     ]
    }
   ],
   "source": [
    "x = '2'\n",
    "y = 2\n",
    "z = 3\n",
    "\n",
    "print(y*z) # 6\n",
    "print((int(x)**z)*3-2) # 22print\n",
    "print(x + str(y)) # 22 (but a different way!)\n",
    "print((y+z)**z ) # 125\n",
    "print(y / (z + y)) # 0.4"
   ]
  },
  {
   "cell_type": "markdown",
   "id": "0a019768-c3e7-480e-ba96-59d6d17764f5",
   "metadata": {},
   "source": [
    "### Assignment\n",
    "\n",
    "--- \n",
    "\n",
    "Before running the code, work out what the values of x, y and z will be after every line of code in the block has been executed.\n",
    "\n"
   ]
  },
  {
   "cell_type": "code",
   "execution_count": 14,
   "id": "9fc8ef20-2dda-498c-b0eb-20a66b9d38c3",
   "metadata": {},
   "outputs": [
    {
     "name": "stdout",
     "output_type": "stream",
     "text": [
      "22\n",
      "32\n",
      "22\n"
     ]
    }
   ],
   "source": [
    "x = 12\n",
    "y = 10\n",
    "\n",
    "z = x + y # z = 22\n",
    "x = x + y # x = 22\n",
    "y = z + y # y = 32\n",
    "\n",
    "print(x)   # 22\n",
    "print(y)   # 32\n",
    "print(z)   # 22"
   ]
  },
  {
   "cell_type": "markdown",
   "id": "495588fb-b33a-485d-b401-c9af60218349",
   "metadata": {},
   "source": [
    "Once you have worked out what you think `x`, `y` and `z` are, run the\n",
    "code to check your answers!\n",
    "\n",
    "Make sure you understand the results you find. **Ask someone if you need\n",
    "help to understand.**\n",
    "\n",
    "### 3.4 Operators & Precedence\n",
    "\n",
    "**Before running the code**, work out what the values of `x`, `y` and\n",
    "`z` will be after every line of code in the block has been executed.\n",
    "Feel free to use a calculator.\n",
    "\n",
    "> **Tip**\n",
    ">\n",
    "> This question is about what operations (i.e. multiplication, division,\n",
    "> powers, etc.) are done *first* based on the type of operation and the\n",
    "> presence of parentheses… it’s the same as it would be for a maths\n",
    "> problem!\n",
    "\n",
    "##### 3.4.0.1 Question\n",
    "\n",
    "By adding parentheses adjust the equations below to output the\n",
    "following:\n",
    "\n",
    "```\n",
    "2.5\n",
    "2.25\n",
    "2.5\n",
    "```"
   ]
  },
  {
   "cell_type": "code",
   "execution_count": 16,
   "id": "5dc8b9d0-2d60-4524-b6be-62b7cdbc0f59",
   "metadata": {},
   "outputs": [
    {
     "name": "stdout",
     "output_type": "stream",
     "text": [
      "2.5\n",
      "2.25\n",
      "2.5\n"
     ]
    }
   ],
   "source": [
    "# Add parentheses to get the outcome above\n",
    "print(1 + (2 * 3) / 4)  # get 2.5\n",
    "print((1 + 2) * 3 / 4)  # get 2.25\n",
    "print(1 + 2 * 3 / 4)  # get 2.5"
   ]
  },
  {
   "cell_type": "markdown",
   "id": "dbad08b1-abe4-4395-aca3-e6695d2a7ebf",
   "metadata": {},
   "source": [
    "Once you have calculated what you think `x`, `y` and `z` are, run the\n",
    "code to check.\n",
    "\n",
    "### 3.5 Test Your Operator Knowledge\n",
    "\n",
    "Now let’s look at some of the stranger operators. Many of these can be\n",
    "very useful in more complex code but can seem a little pointless now.\n",
    "\n",
    "**Work out what operator should replace the `?`** in each of the lines\n",
    "of code below to produce the output I’ve shown in the comments. I’ve\n",
    "mixed in ones you have seen above with ones that we’ve not seen before.\n",
    "\n",
    "##### 3.5.0.1 Question"
   ]
  },
  {
   "cell_type": "code",
   "execution_count": 18,
   "id": "404ee434-a347-4c3f-9f30-d3c39205a566",
   "metadata": {},
   "outputs": [
    {
     "name": "stdout",
     "output_type": "stream",
     "text": [
      "1\n",
      "13\n",
      "False\n",
      "1000\n",
      "7\n",
      "3\n"
     ]
    }
   ],
   "source": [
    "x = 10\n",
    "y = 3\n",
    "\n",
    "print( x % y ) # 1\n",
    "print( x + y ) # 13\n",
    "print( x == y ) # False\n",
    "print( x ** y ) # 1000\n",
    "print( x - y ) # 7\n",
    "print( x // y ) # 3"
   ]
  },
  {
   "cell_type": "markdown",
   "id": "3cb8f4c1-d1be-4d1b-b4c2-0d1509aced6d",
   "metadata": {},
   "source": [
    "### 3.6 Applying What We’ve Learned\n",
    "\n",
    "Now we are going to take what we’ve learned and apply it in a more\n",
    "‘abstract’ way: how do we translate some well-known mathematical\n",
    "formulae *into code*? In particular, I’m interested in the formula for\n",
    "the volume of a sphere (and this gives me a chance to show that\n",
    "Notebooks can show formulae as well!):\n",
    "\n",
    "$$\n",
    "V = \\frac{4}{3}\\pi r^{3}\n",
    "$$\n",
    "\n",
    "#### 3.6.1 Calculate the Volume of a Sphere\n",
    "\n",
    "So, given a sphere with a **diameter** of 12cm, calculate its volume:\n",
    "\n",
    "> **Tip**\n",
    ">\n",
    "> I would strongly advise you to Google: `python constant pi` and look\n",
    "> for code that will save you having to write down the value of $\\pi$.\n",
    "\n",
    "##### 3.6.1.1 Question"
   ]
  },
  {
   "cell_type": "code",
   "execution_count": 21,
   "id": "f07f3dbb-22d8-4be6-9ce3-b10cba391610",
   "metadata": {},
   "outputs": [
    {
     "name": "stdout",
     "output_type": "stream",
     "text": [
      "904.779 cm3\n"
     ]
    }
   ],
   "source": [
    "from math import pi\n",
    "v = (4/3)*pi*(6**3)\n",
    "print(f\"{v:0.3f} cm3\")"
   ]
  },
  {
   "cell_type": "markdown",
   "id": "473ea676-99b8-4d70-bff5-4181b560c421",
   "metadata": {},
   "source": [
    "I get an answer of 904.779cm$^3$.\n",
    "\n",
    "#### 3.6.2 Calculate the Radius of a Sphere\n",
    "\n",
    "Now, given a sphere of volume 14,137cm$^3$ calculate its radius as a\n",
    "**whole number**. The formula for this can be worked out as:\n",
    "\n",
    "If you can’t remember how to rearrange formulae this would be a good\n",
    "skill to refresh!\n",
    "\n",
    "> **Tip**\n",
    ">\n",
    "> There are three ways to get a “whole number” from a float:\n",
    ">\n",
    "> 1.  When you’re starting out, the easiest is to change the variable’s\n",
    ">     `type`\n",
    "> 2.  The next step up is to make use of Google to find out if there are\n",
    ">     ways of *rounding* to the nearest integer\n",
    "> 3.  The third step is to change what’s visible to the user without\n",
    ">     altering the actual number\n",
    "\n",
    "I get an answer of either 14 or 15… can you work out why?\n",
    "\n",
    "##### 3.6.2.1 Question"
   ]
  },
  {
   "cell_type": "code",
   "execution_count": 29,
   "id": "49ed6740-0c28-4e00-981c-602dae730d55",
   "metadata": {},
   "outputs": [
    {
     "name": "stdout",
     "output_type": "stream",
     "text": [
      "14.99994095641231\n",
      "14\n",
      "15\n"
     ]
    }
   ],
   "source": [
    "from math import pi\n",
    "v = 14137\n",
    "r = ((3 * v) / (4 * pi)) ** (1/3)\n",
    "print(r)\n",
    "print(int(r)) \n",
    "print(round(r))"
   ]
  },
  {
   "cell_type": "markdown",
   "id": "dd20ac62-62ba-4970-8b7f-2e743ffa0a57",
   "metadata": {},
   "source": [
    "## 4. Python Conditions\n",
    "\n",
    "> **Connections**\n",
    ">\n",
    "> This is a short recap of material covered in Code Camp’s [Truth &\n",
    "> Conditions](https://jreades.github.io/code-camp/lessons/Boolean_Logic.html)\n",
    "> and, to some extent, the\n",
    "> [Iteration](https://jreades.github.io/fsds/sessions/week2.html#pre-recorded-lectures)\n",
    "> lecture.\n",
    "\n",
    "### 4.1 Working with Conditions\n",
    "\n",
    "Use `if`, `elif`, and `else` so that you get the following output:\n",
    "\n",
    "1.  When `hours` is 10 or more, then the code prints\n",
    "    `At least 10 hours worked!`\n",
    "2.  When `hours` is exactly 2, then the code prints\n",
    "    `Exactly 2 hours worked.`  \n",
    "3.  When `hours` is 9 or less *but not 2*, then the code prints\n",
    "    `Less than 10 hours worked!`\n",
    "\n",
    "> **Hint**\n",
    ">\n",
    "> You will *also* need to think about the order in which these\n",
    "> conditions are tested.\n",
    "\n",
    "##### 4.1.0.1 Question"
   ]
  },
  {
   "cell_type": "code",
   "execution_count": 34,
   "id": "0f5920c4-feaf-4d59-93fe-bf6e8a9a252c",
   "metadata": {},
   "outputs": [
    {
     "name": "stdout",
     "output_type": "stream",
     "text": [
      "Exactly 2 hours worked!\n"
     ]
    }
   ],
   "source": [
    "hours = 2\n",
    "\n",
    "if hours == 2:\n",
    "    print(\"Exactly 2 hours worked!\")\n",
    "elif hours >= 10:\n",
    "    print(\"At least 10 hours worked!\")\n",
    "else:\n",
    "    print(\"Less than 10 hours worked!\")"
   ]
  },
  {
   "cell_type": "markdown",
   "id": "ae50f5de-465f-41cb-853b-203fd04db377",
   "metadata": {},
   "source": [
    "### 4.2 Flow Control\n",
    "\n",
    "Using the flow chart shown in the image below as a model, write the code\n",
    "to make this condition work. You will need to complete the code such\n",
    "that it produces the following: 1. When `a = 2` and `b = 2` four lines\n",
    "of output will be written 2. When `a = 1` and `b = 2` one line of output\n",
    "will be written\n",
    "\n",
    "![](https://jreades.github.io/fsds//practicals/img/geocompweek2_task3_3.jpg)\n",
    "\n",
    "##### 4.2.0.1 Question"
   ]
  },
  {
   "cell_type": "code",
   "execution_count": null,
   "id": "771b6241-6e80-4a7b-ad3d-19eb82997378",
   "metadata": {},
   "outputs": [],
   "source": [
    "a = 1\n",
    "b = 1\n",
    "\n",
    "# <your code here>\n",
    "x = a\n",
    "\n",
    "if x == b:\n",
    "    print(\"inside 1\")\n",
    "    print(\"inside 2\")\n",
    "    print(\"inside\")\n",
    "print(\"after condition\")"
   ]
  },
  {
   "cell_type": "markdown",
   "id": "e7f27123-63d6-44a2-84b9-32ebd0215a42",
   "metadata": {},
   "source": [
    "## 5. Python Logic\n",
    "\n",
    "> **Connections**\n",
    ">\n",
    "> This is a short recap of Code Camp’s [Boolean\n",
    "> Logic](https://jreades.github.io/code-camp/lessons/Boolean_Logic.html)\n",
    "> session and the [Pthon: the\n",
    "> Basics](https://jreades.github.io/fsds//sessions/week2.html#lectures)\n",
    "> lecture.\n",
    "\n",
    "### 5.1 It’s All Quite Logical…\n",
    "\n",
    "Before adding a value for `x` and running the code below, try to answer\n",
    "the following questions:\n",
    "\n",
    "##### 5.1.0.1 Question\n",
    "\n",
    "1.  What names are name(s) are printed when `x = 5`?\n",
    "2.  What value(s) can `x` be when the names `Joe` and `Aled` are\n",
    "    printed?\n",
    "3.  What name(s) are printed when `x = -1`?  \n",
    "4.  Is there any value for which all three names will be printed?"
   ]
  },
  {
   "cell_type": "code",
   "execution_count": 37,
   "id": "6ead9bdc-23d5-4450-811c-aa4a0b6a4f4d",
   "metadata": {},
   "outputs": [
    {
     "name": "stdout",
     "output_type": "stream",
     "text": [
      "Aled\n"
     ]
    }
   ],
   "source": [
    "x = -1\n",
    "\n",
    "if x > 0 and x < 5:    # 0 to 5\n",
    "    print(\"Joe\")\n",
    "\n",
    "if x > 0 or x < 5:     # 0 to 5\n",
    "    print(\"Aled\")\n",
    "\n",
    "if not(x > 0):         # Anything above 0\n",
    "    print(\"Sarah\")"
   ]
  },
  {
   "cell_type": "markdown",
   "id": "799da067-2e03-427d-8495-83dfabca9439",
   "metadata": {},
   "source": [
    "### 5.2 Logic (Cont’d)\n",
    "\n",
    "Study the flow chart below.\n",
    "\n",
    "![](https://jreades.github.io/fsds/practicals/img/geocompweek2_task3_5.jpg)\n",
    "\n",
    "> **Tip**\n",
    ">\n",
    "> This will require you to combine logic with one of the operators that\n",
    "> we saw earlier. Also note the *new* iterator that we’ve got here:\n",
    "> `range(<start>, <stop>)` to create a `range` of numbers between two\n",
    "> other numbers.\n",
    "\n",
    "In the cell below, use the for loop *already set up* to as a starting\n",
    "point for implementing the flow chart shown above for values of `x`\n",
    "between 0 and 9.\n",
    "\n",
    "##### 5.2.0.1 Question"
   ]
  },
  {
   "cell_type": "code",
   "execution_count": 40,
   "id": "6df4272e-55da-4ee5-b082-11c64a72e963",
   "metadata": {},
   "outputs": [
    {
     "name": "stdout",
     "output_type": "stream",
     "text": [
      "x is even\n",
      "0\n",
      "x is odd\n",
      "1\n",
      "x is even\n",
      "2\n",
      "x is odd\n",
      "3\n",
      "x is even\n",
      "4\n",
      "x is odd\n",
      "5\n",
      "x is even\n",
      "6\n",
      "x is odd\n",
      "7\n",
      "x is even\n",
      "8\n"
     ]
    }
   ],
   "source": [
    "for x in range(0, 9):\n",
    "    if x % 2 == 0:\n",
    "        print(\"x is even\")\n",
    "    else:\n",
    "        print(\"x is odd\")\n",
    "    print(x)\n",
    "        "
   ]
  },
  {
   "cell_type": "markdown",
   "id": "7dcd5541-4849-453b-81a8-a5466aad6e9b",
   "metadata": {},
   "source": [
    "### 5.3 ‘Nested’ Conditionals\n",
    "\n",
    "Conditional statements can be nested within one another. That is, Python\n",
    "evaluates the first, or ‘outer’, condition and can then evaluate\n",
    "secondary, or ‘inner’, conditions. The code below shows an example of\n",
    "this.\n",
    "\n",
    "##### 5.3.0.1 Question"
   ]
  },
  {
   "cell_type": "code",
   "execution_count": null,
   "id": "60507d9f-e6b5-4c8f-99d5-2bdebd361d22",
   "metadata": {},
   "outputs": [],
   "source": [
    "x = 5\n",
    "y = 4\n",
    "\n",
    "if x != y:                                 #line 1\n",
    "    print(\"x is not equal to y\")\n",
    "    \n",
    "    if(x > y):                             #line 4\n",
    "        print(\"x is greater than y\")\n",
    "    \n",
    "    else:                                  #line 7\n",
    "        print(\"x is less than y\")\n",
    "\n",
    "else:\n",
    "    print(\"<insert conclusion here>\")"
   ]
  },
  {
   "cell_type": "markdown",
   "id": "cefe0aa4-fd5c-4b52-a5d4-011988bbf635",
   "metadata": {},
   "source": [
    "Note how the indentation makes it easier to work out which ‘level’\n",
    "(outer or inner condition) the code is operating on. In the code above,\n",
    "lines 4 and 7 are at the same indentation meaning that *both will be\n",
    "skipped* if the initial condition (on line 1) is `False`.\n",
    "\n",
    "To check you understand how the code above works:\n",
    "\n",
    "1.  Change `<insert conclusion here>` to a string that explains the\n",
    "    condition of `x` and `y`\n",
    "2.  For `x = 2` and `y = 3`, type what line(s) will be output here: …\n",
    "\n",
    "Great! You should now have a pretty good understanding of how\n",
    "conditional and logical operators work. This understanding will be handy\n",
    "in future as we work through other computational concepts.\n",
    "\n",
    "## 6. Python Lists\n",
    "\n",
    "> **Connections**\n",
    ">\n",
    "> This is a short recap of material covered in the\n",
    "> [Lists](https://jreades.github.io/fsds/sessions/week2.html#lectures)\n",
    "> lecture and Code Camp’s\n",
    "> [Lists](https://jreades.github.io/code-camp/lessons/Lists.html)\n",
    "> session.\n",
    "\n",
    "### 6.1 Who’s in the List?\n",
    "\n",
    "Here we are looking to interact with lists in a straightforward way that\n",
    "will help you to understand accessing them using indexes and slices, and\n",
    "searching.\n",
    "\n",
    "##### 6.1.0.1 Question"
   ]
  },
  {
   "cell_type": "code",
   "execution_count": 45,
   "id": "1ac4c545-31e8-4ceb-9e26-1dc8e18f7a35",
   "metadata": {},
   "outputs": [
    {
     "name": "stdout",
     "output_type": "stream",
     "text": [
      "London\n",
      "Tokyo\n",
      "['Beijing', 'Tokyo']\n",
      "['London', 'Beijing', 'Tokyo', 'Delhi']\n",
      "['London', 'Beijing', 'Tokyo']\n",
      "0\n"
     ]
    }
   ],
   "source": [
    "cities = ['New York', 'London', 'Beijing', 'Tokyo', 'Delhi']\n",
    "\n",
    "# Print out London from cities:\n",
    "print(cities[1])\n",
    "\n",
    "# Print out Tokyo using *negative* indexing:\n",
    "print(cities[-2])\n",
    "\n",
    "# Print out Beijing *and* Tokyo using a list slice\n",
    "print(cities[2:4])\n",
    "\n",
    "# Print out London to Delhi using a slice\n",
    "print(cities[1:5]) # You could also do cities[1:5] but this way is neater\n",
    "\n",
    "# Combine positive and negative indexing to print out London, Beijing and Tokyo using a list slice\n",
    "print(cities[1:-1])\n",
    "\n",
    "# Print out the index for New York by searching for it (i.e. you can't just type 0)\n",
    "print(cities.index('New York'))"
   ]
  },
  {
   "cell_type": "markdown",
   "id": "689ab39d-1b9a-4320-83a6-abcf69357fcf",
   "metadata": {},
   "source": [
    "### 6.2 Manipulating Lists\n",
    "\n",
    "Let’s break a few things…\n",
    "\n",
    "#### 6.2.1 Create an IndexError\n",
    "\n",
    "##### 6.2.1.1 Question"
   ]
  },
  {
   "cell_type": "code",
   "execution_count": 46,
   "id": "7b0c2e09-9a8d-402d-99dc-3a2afa8725d8",
   "metadata": {},
   "outputs": [
    {
     "ename": "IndexError",
     "evalue": "list index out of range",
     "output_type": "error",
     "traceback": [
      "\u001b[31m---------------------------------------------------------------------------\u001b[39m",
      "\u001b[31mIndexError\u001b[39m                                Traceback (most recent call last)",
      "\u001b[36mCell\u001b[39m\u001b[36m \u001b[39m\u001b[32mIn[46]\u001b[39m\u001b[32m, line 3\u001b[39m\n\u001b[32m      1\u001b[39m \u001b[38;5;66;03m# Cause an 'IndexError: list index out of range' errr\u001b[39;00m\n\u001b[32m      2\u001b[39m cities = [\u001b[33m'\u001b[39m\u001b[33mNew York\u001b[39m\u001b[33m'\u001b[39m, \u001b[33m'\u001b[39m\u001b[33mLondon\u001b[39m\u001b[33m'\u001b[39m, \u001b[33m'\u001b[39m\u001b[33mBeijing\u001b[39m\u001b[33m'\u001b[39m, \u001b[33m'\u001b[39m\u001b[33mTokyo\u001b[39m\u001b[33m'\u001b[39m, \u001b[33m'\u001b[39m\u001b[33mDelhi\u001b[39m\u001b[33m'\u001b[39m]\n\u001b[32m----> \u001b[39m\u001b[32m3\u001b[39m \u001b[38;5;28mprint\u001b[39m(\u001b[43mcities\u001b[49m\u001b[43m[\u001b[49m\u001b[32;43m20\u001b[39;49m\u001b[43m]\u001b[49m) \n",
      "\u001b[31mIndexError\u001b[39m: list index out of range"
     ]
    }
   ],
   "source": [
    "# Cause an 'IndexError: list index out of range' errr\n",
    "cities = ['New York', 'London', 'Beijing', 'Tokyo', 'Delhi']\n",
    "print(cities[20]) "
   ]
  },
  {
   "cell_type": "markdown",
   "id": "f15f56e3-59eb-42c4-b466-753e8fabd343",
   "metadata": {},
   "source": [
    "#### 6.2.2 Create a ValueError\n",
    "\n",
    "##### 6.2.2.1 Question"
   ]
  },
  {
   "cell_type": "code",
   "execution_count": 47,
   "id": "1eafdd83-11ef-4dde-84df-4a9769a4bda9",
   "metadata": {},
   "outputs": [
    {
     "ename": "ValueError",
     "evalue": "'Toronto' is not in list",
     "output_type": "error",
     "traceback": [
      "\u001b[31m---------------------------------------------------------------------------\u001b[39m",
      "\u001b[31mValueError\u001b[39m                                Traceback (most recent call last)",
      "\u001b[36mCell\u001b[39m\u001b[36m \u001b[39m\u001b[32mIn[47]\u001b[39m\u001b[32m, line 3\u001b[39m\n\u001b[32m      1\u001b[39m \u001b[38;5;66;03m# Cause a ValueError using the city of Toronto\u001b[39;00m\n\u001b[32m      2\u001b[39m cities = [\u001b[33m'\u001b[39m\u001b[33mNew York\u001b[39m\u001b[33m'\u001b[39m, \u001b[33m'\u001b[39m\u001b[33mLondon\u001b[39m\u001b[33m'\u001b[39m, \u001b[33m'\u001b[39m\u001b[33mBeijing\u001b[39m\u001b[33m'\u001b[39m, \u001b[33m'\u001b[39m\u001b[33mTokyo\u001b[39m\u001b[33m'\u001b[39m, \u001b[33m'\u001b[39m\u001b[33mDelhi\u001b[39m\u001b[33m'\u001b[39m]\n\u001b[32m----> \u001b[39m\u001b[32m3\u001b[39m \u001b[38;5;28mprint\u001b[39m(\u001b[43mcities\u001b[49m\u001b[43m.\u001b[49m\u001b[43mindex\u001b[49m\u001b[43m(\u001b[49m\u001b[33;43m'\u001b[39;49m\u001b[33;43mToronto\u001b[39;49m\u001b[33;43m'\u001b[39;49m\u001b[43m)\u001b[49m)\n",
      "\u001b[31mValueError\u001b[39m: 'Toronto' is not in list"
     ]
    }
   ],
   "source": [
    "# Cause a ValueError using the city of Toronto\n",
    "cities = ['New York', 'London', 'Beijing', 'Tokyo', 'Delhi']\n",
    "print(cities.index('Toronto'))"
   ]
  },
  {
   "cell_type": "markdown",
   "id": "7d69393c-c2ea-459b-86ac-064644b86724",
   "metadata": {},
   "source": [
    "#### 6.2.3 Sort the List\n",
    "\n",
    "Sort the list *in place* in reverse alphabetical order (i.e. z…a) and\n",
    "then print the sorted list\n",
    "\n",
    "##### 6.2.3.1 Question"
   ]
  },
  {
   "cell_type": "code",
   "execution_count": 48,
   "id": "e14a3749-9923-4250-b807-61b2ae7c26de",
   "metadata": {},
   "outputs": [
    {
     "name": "stdout",
     "output_type": "stream",
     "text": [
      "['Tokyo', 'New York', 'London', 'Delhi', 'Beijing']\n"
     ]
    }
   ],
   "source": [
    "cities = ['New York', 'London', 'Beijing', 'Tokyo', 'Delhi']\n",
    "\n",
    "cities.sort(reverse=True) \n",
    "print(cities)"
   ]
  },
  {
   "cell_type": "markdown",
   "id": "e76b262a-7028-4642-b3dc-6889f4a5a491",
   "metadata": {},
   "source": [
    "The output from this should be: <code>\\[‘Tokyo’, ‘New York’, ‘London’,\n",
    "‘Delhi’, ‘Beijing’\\]</code>\n",
    "\n",
    "### 6.3 Adding/Removing Values\n",
    "\n",
    "#### 6.3.1 Inserting into a List\n",
    "\n",
    "Add the city of Toronto to the list *after* New York in the *sorted*\n",
    "list.\n",
    "\n",
    "##### 6.3.1.1 Question"
   ]
  },
  {
   "cell_type": "code",
   "execution_count": 51,
   "id": "6a049278-daf0-40c1-8840-decc3bca9274",
   "metadata": {},
   "outputs": [
    {
     "name": "stdout",
     "output_type": "stream",
     "text": [
      "['Tokyo', 'New York', 'Toronto', 'London', 'Delhi', 'Beijing']\n"
     ]
    }
   ],
   "source": [
    "# Just in case you make a mistake...\n",
    "cities = ['Tokyo', 'New York', 'London', 'Delhi', 'Beijing']\n",
    "cities.insert(2, \"Toronto\") \n",
    "print(cities)"
   ]
  },
  {
   "cell_type": "markdown",
   "id": "10f683c8-80d6-40c4-ac0a-95027d8799f8",
   "metadata": {},
   "source": [
    "The output should be: <code>\\[‘Tokyo’, ‘New York’, ‘Toronto’, ‘London’,\n",
    "‘Delhi’, ‘Beijing’\\]</code>\n",
    "\n",
    "#### 6.3.2 Removing from a List\n",
    "\n",
    "Now *pop* New York from the list *without* specifying its index\n",
    "(i.e. the number `1` should *not* appear in your code). Print out the\n",
    "value that you popped and the print out the cities list to check you’ve\n",
    "done the right thing…\n",
    "\n",
    "##### 6.3.2.1 Question"
   ]
  },
  {
   "cell_type": "code",
   "execution_count": 54,
   "id": "1851dab3-e340-4c1a-af98-0847231ac876",
   "metadata": {},
   "outputs": [
    {
     "name": "stdout",
     "output_type": "stream",
     "text": [
      "New York\n",
      "['Tokyo', 'London', 'Delhi', 'Beijing']\n"
     ]
    }
   ],
   "source": [
    "cities = ['Tokyo', 'New York', 'London', 'Delhi', 'Beijing']\n",
    "\n",
    "if \"New York\" in cities: \n",
    "    index = cities.index(\"New York\")\n",
    "    p = cities.pop(index) \n",
    "print(p)\n",
    "print(cities)"
   ]
  },
  {
   "cell_type": "markdown",
   "id": "eb51204f-3731-4d63-ade9-9da0f756cf8c",
   "metadata": {},
   "source": [
    "The output should be:\n",
    "\n",
    "-   <code>New York</code>\n",
    "-   <code>\\[‘Tokyo’, ‘Toronto’, ‘London’, ‘Delhi’, ‘Beijing’\\]</code>\n",
    "\n",
    "#### 6.3.3 Checking Lists\n",
    "\n",
    "Finally, how can you check if the city of Moscow is in the list and let\n",
    "the user know if it is or is not?\n",
    "\n",
    "##### 6.3.3.1 Question"
   ]
  },
  {
   "cell_type": "code",
   "execution_count": 55,
   "id": "35eebe37-f354-4ba5-8387-a24190fdc93a",
   "metadata": {},
   "outputs": [
    {
     "name": "stdout",
     "output_type": "stream",
     "text": [
      "Moscow is not in the list\n"
     ]
    }
   ],
   "source": [
    "if \"Moscow\" in cities:\n",
    "    print(\"Moscow is in the list\") \n",
    "else:\n",
    "    print(\"Moscow is not in the list\")"
   ]
  },
  {
   "cell_type": "markdown",
   "id": "90793576-9d68-4d1b-bef3-ab46fc694229",
   "metadata": {},
   "source": [
    "### 6.4 You’re Done!\n",
    "\n",
    "This is quite a lot to get through. If you’ve managed it in under 2\n",
    "hours then *congratulations*! Either you must have paid a lot of\n",
    "attention when doing Code Camp, or you might want to check in with us as\n",
    "to whether you should really be doing this module…\n",
    "\n",
    "#### 6.4.1 No Wait, One More Thing…\n",
    "\n",
    "You now want to add/commit/push your completed notebook to your GitHub\n",
    "reposistory. Using the Terminal you need to:\n",
    "\n",
    "1.  Navigate to your repository\n",
    "    (e.g.`$HOME/Documents/CASA/<your repository>`).\n",
    "2.  Check the status of your notebooks using `git status` (you should\n",
    "    see that `Practical-02-Foundations_1.ipynb has been modified`).\n",
    "3.  Add the *changes* to Git using\n",
    "    `git add  Practical-02-Foundations_1.ipynb`\n",
    "4.  Commit this changed notebook with a message using\n",
    "    `git commit -m \"<your message here...>\"`\n",
    "5.  Push this change to GitHub using: `git push`\n",
    "\n",
    "You should now be able to visit your repository on\n",
    "[GitHub](https://github.com/) and see that your changes are now stored\n",
    "there as well!"
   ]
  },
  {
   "cell_type": "code",
   "execution_count": null,
   "id": "9cef0fb8-bcef-48cd-8793-92ee77a027ac",
   "metadata": {},
   "outputs": [],
   "source": []
  }
 ],
 "metadata": {
  "kernelspec": {
   "display_name": "Python 3 (ipykernel)",
   "language": "python",
   "name": "python3"
  },
  "language_info": {
   "codemirror_mode": {
    "name": "ipython",
    "version": 3
   },
   "file_extension": ".py",
   "mimetype": "text/x-python",
   "name": "python",
   "nbconvert_exporter": "python",
   "pygments_lexer": "ipython3",
   "version": "3.12.11"
  }
 },
 "nbformat": 4,
 "nbformat_minor": 5
}
